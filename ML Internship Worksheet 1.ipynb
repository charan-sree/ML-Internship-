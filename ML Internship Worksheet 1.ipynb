{
 "cells": [
  {
   "cell_type": "code",
   "execution_count": 1,
   "id": "5b9a6fad",
   "metadata": {},
   "outputs": [
    {
     "name": "stdout",
     "output_type": "stream",
     "text": [
      "3628800\n"
     ]
    }
   ],
   "source": [
    "def factorial(number):\n",
    "  factorial=1\n",
    "  for a in range(1,number+1):\n",
    "      factorial=factorial*a\n",
    "  return factorial\n",
    "print(factorial (10))"
   ]
  },
  {
   "cell_type": "code",
   "execution_count": 3,
   "id": "4d6519bd",
   "metadata": {},
   "outputs": [
    {
     "name": "stdout",
     "output_type": "stream",
     "text": [
      "Enter the Name of Person Han\n",
      "\"Luke, I am your brother in law .\"\n"
     ]
    }
   ],
   "source": [
    "relations_of_luke = {\"Darth Vader\": \"father\",\"Leia\": \"sister\",\"Han\": \"brother in law\",\"R2D2\": \"droid\"}\n",
    "name_of_person = input(\"Enter the Name of Person \")\n",
    "print('\"Luke, I am your',relations_of_luke[str(name_of_person)],'.\"')\n",
    "\n"
   ]
  },
  {
   "cell_type": "code",
   "execution_count": 4,
   "id": "cc8cda06",
   "metadata": {},
   "outputs": [
    {
     "name": "stdout",
     "output_type": "stream",
     "text": [
      "Enter the Number 44\n",
      "Number of digits is  2\n"
     ]
    }
   ],
   "source": [
    "def number_of_digits(i):\n",
    "  count=0\n",
    "  while i != 0:\n",
    "    i //= 10\n",
    "    count += 1\n",
    "  return count   \n",
    "num = int(input(\"Enter the Number \"))\n",
    "print('Number of digits is ',number_of_digits(num))\n"
   ]
  },
  {
   "cell_type": "code",
   "execution_count": 7,
   "id": "01201436",
   "metadata": {},
   "outputs": [
    {
     "name": "stdout",
     "output_type": "stream",
     "text": [
      "Enter the number: 5\n",
      "Ans:  34560\n"
     ]
    }
   ],
   "source": [
    "import math\n",
    "def factorial(a):\n",
    "  return math.factorial(a)\n",
    "def factorial_of_factorial(a):\n",
    "  if a<0:\n",
    "    return \"can't find factorial for negative number\"\n",
    "  b = 1\n",
    "  for j in range(1,a+1):\n",
    "    b = b*factorial(j)\n",
    "  return b  \n",
    "\n",
    "num = int(input(\"Enter the number: \"))\n",
    "print('Ans: ',factorial_of_factorial(num))\n"
   ]
  },
  {
   "cell_type": "code",
   "execution_count": 8,
   "id": "d722b7ec",
   "metadata": {},
   "outputs": [
    {
     "data": {
      "text/plain": [
       "14"
      ]
     },
     "execution_count": 8,
     "metadata": {},
     "output_type": "execute_result"
    }
   ],
   "source": [
    "def number_of_arg(*num):\n",
    "    answer=0\n",
    "    for number in num:\n",
    "        answer += number * number\n",
    "    return answer\n",
    "\n",
    "number_of_arg(1,2,3)\n"
   ]
  },
  {
   "cell_type": "code",
   "execution_count": 9,
   "id": "b9eed090",
   "metadata": {},
   "outputs": [
    {
     "name": "stdout",
     "output_type": "stream",
     "text": [
      "Enter the 1st value 5\n",
      "Enter the 2nd value 5\n",
      "Enter the operator *\n",
      "Answer  25\n"
     ]
    }
   ],
   "source": [
    "def different_operations(number1,number2,operation):\n",
    "  if operation=='+':\n",
    "    return number1+number2\n",
    "  elif operation=='-':\n",
    "    return number1-number2\n",
    "  elif operation=='*':\n",
    "    return number1*number2\n",
    "  elif operation=='/':\n",
    "    return number1/number2\n",
    "  else:\n",
    "    return \"enter a valid operation !\"\n",
    "\n",
    "i = int(input(\"Enter the 1st value \"))\n",
    "j = int(input(\"Enter the 2nd value \"))\n",
    "operators = input(\"Enter the operator \")\n",
    "print('Answer ',different_operations(i,j,operators))\n"
   ]
  },
  {
   "cell_type": "code",
   "execution_count": 10,
   "id": "bb860f67",
   "metadata": {},
   "outputs": [
    {
     "name": "stdout",
     "output_type": "stream",
     "text": [
      "Enter the number: 10\n",
      "['I CAN', 'I WILL', 'I CAN', 'I WILL', 'I CAN', 'I WILL', 'I CAN', 'I WILL', 'I CAN', 'I WILL']\n"
     ]
    }
   ],
   "source": [
    "text = \"I CAN\"\n",
    "text2 = \"I WILL\"\n",
    "Answer = []\n",
    "number = int(input(\"Enter the number: \"))\n",
    "for j in range(0,number):\n",
    "  if j%2==0:\n",
    "    Answer.append(text)\n",
    "  else:\n",
    "    Answer.append(text2)\n",
    "print(Answer)\n"
   ]
  },
  {
   "cell_type": "code",
   "execution_count": 25,
   "id": "6aeb525d",
   "metadata": {},
   "outputs": [
    {
     "name": "stdout",
     "output_type": "stream",
     "text": [
      "2\n"
     ]
    }
   ],
   "source": [
    "pairs=0 \n",
    "list = [1, 2, 1, 2, 1, 3, 2]\n",
    "list.sort()\n",
    "  \n",
    "j = 0\n",
    "while j < (len(list)-1):\n",
    "  if (list[j] == list[j + 1]):\n",
    "    pairs += 1\n",
    "    j = j + 2\n",
    "  else:\n",
    "    j += 1\n",
    "\n",
    "print(pairs)\n"
   ]
  },
  {
   "cell_type": "code",
   "execution_count": 1,
   "id": "a32fde5f",
   "metadata": {},
   "outputs": [
    {
     "name": "stdout",
     "output_type": "stream",
     "text": [
      "True\n"
     ]
    }
   ],
   "source": [
    "lst1 = [7, 4, 5, 1]\n",
    "lst2 = [2, 3, 6]\n",
    "final_lst = lst1+lst2\n",
    "\n",
    "def checkConsecutive(l):\n",
    "    return sorted(l) == list(range(min(l), max(l)+1))\n",
    "\n",
    "print(checkConsecutive(final_lst))"
   ]
  },
  {
   "cell_type": "code",
   "execution_count": 2,
   "id": "3c4b0544",
   "metadata": {},
   "outputs": [
    {
     "name": "stdout",
     "output_type": "stream",
     "text": [
      "14796\n"
     ]
    }
   ],
   "source": [
    "a = {\"cost_price\":'32.67',\"sell_price\":'45.00',\"inventory\":'1200'}\n",
    "print (round((float(a['sell_price'])-float(a['cost_price']))*float(a['inventory'])))\n"
   ]
  },
  {
   "cell_type": "code",
   "execution_count": null,
   "id": "f35837c2",
   "metadata": {},
   "outputs": [],
   "source": []
  }
 ],
 "metadata": {
  "kernelspec": {
   "display_name": "Python 3 (ipykernel)",
   "language": "python",
   "name": "python3"
  },
  "language_info": {
   "codemirror_mode": {
    "name": "ipython",
    "version": 3
   },
   "file_extension": ".py",
   "mimetype": "text/x-python",
   "name": "python",
   "nbconvert_exporter": "python",
   "pygments_lexer": "ipython3",
   "version": "3.9.7"
  }
 },
 "nbformat": 4,
 "nbformat_minor": 5
}
